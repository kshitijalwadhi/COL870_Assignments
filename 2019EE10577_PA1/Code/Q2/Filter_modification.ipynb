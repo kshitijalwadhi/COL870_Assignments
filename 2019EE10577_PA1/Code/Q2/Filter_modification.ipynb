{
 "cells": [
  {
   "cell_type": "code",
   "execution_count": 242,
   "id": "0cc79bdc-b3a0-4d66-bd97-11ef0f5e6865",
   "metadata": {
    "execution": {
     "iopub.execute_input": "2022-09-06T18:14:25.307373Z",
     "iopub.status.busy": "2022-09-06T18:14:25.306951Z",
     "iopub.status.idle": "2022-09-06T18:14:25.314713Z",
     "shell.execute_reply": "2022-09-06T18:14:25.313673Z",
     "shell.execute_reply.started": "2022-09-06T18:14:25.307347Z"
    }
   },
   "outputs": [],
   "source": [
    "import torch, os\n",
    "import torchvision\n",
    "import torchvision.transforms as transforms\n",
    "from tqdm import tqdm\n",
    "import numpy as np\n",
    "import matplotlib.pyplot as plt\n",
    "import random\n",
    "import torch.nn as nn\n",
    "import torch.nn.functional as F\n",
    "import torchvision.models as models\n",
    "import torch.optim as optim\n",
    "import os\n",
    "import io\n",
    "from PIL import Image\n",
    "import glob"
   ]
  },
  {
   "cell_type": "code",
   "execution_count": 243,
   "id": "ba181ddb-2822-4ea9-afbf-2ba4ddae29f7",
   "metadata": {
    "execution": {
     "iopub.execute_input": "2022-09-06T18:14:25.317338Z",
     "iopub.status.busy": "2022-09-06T18:14:25.316953Z",
     "iopub.status.idle": "2022-09-06T18:14:25.330962Z",
     "shell.execute_reply": "2022-09-06T18:14:25.329830Z",
     "shell.execute_reply.started": "2022-09-06T18:14:25.317299Z"
    }
   },
   "outputs": [],
   "source": [
    "class Net(nn.Module):\n",
    "    def __init__(self, num_deep_layers=3):\n",
    "        super(Net, self).__init__()\n",
    "\n",
    "        self.conv1 = nn.Conv2d(in_channels=3, out_channels=48, kernel_size=3, padding=1)\n",
    "        self.conv2 = nn.Conv2d(in_channels=48, out_channels=64, kernel_size=3, padding=1)\n",
    "        self.conv3 = nn.Conv2d(in_channels=64, out_channels=256, kernel_size=5, padding=1)\n",
    "        self.conv4 = nn.Conv2d(in_channels=256, out_channels=256, kernel_size=5, padding=1)\n",
    "        \n",
    "        self.pool = nn.MaxPool2d(kernel_size=2, stride=2)\n",
    "        \n",
    "        self.fc1 = nn.Linear(in_features=256, out_features=256)\n",
    "        self.fc2 = nn.Linear(in_features=256, out_features=256)\n",
    "        \n",
    "        self.fc_final = nn.Linear(in_features=256, out_features=33)\n",
    "\n",
    "    def forward(self, x): \n",
    "\n",
    "        x = F.relu(self.conv1(x))\n",
    "        x = self.pool(x)\n",
    "        \n",
    "        x = F.relu(self.conv2(x))\n",
    "        x = self.pool(x)\n",
    "        \n",
    "        x = F.relu(self.conv3(x))\n",
    "        x = self.pool(x)\n",
    "        \n",
    "        x = F.relu(self.conv4(x))\n",
    "        x = self.pool(x)\n",
    "        \n",
    "        x = F.avg_pool2d(x, kernel_size=x.shape[2:])\n",
    "        x = x.view(x.shape[0], -1)\n",
    "        x = F.relu(self.fc1(x))\n",
    "        x = F.relu(self.fc2(x))\n",
    "        x = self.fc_final(x)\n",
    "        \n",
    "        return x"
   ]
  },
  {
   "cell_type": "code",
   "execution_count": 244,
   "id": "6a6bd11e-8c8e-45cf-a250-288b3522ebd3",
   "metadata": {
    "execution": {
     "iopub.execute_input": "2022-09-06T18:14:25.515787Z",
     "iopub.status.busy": "2022-09-06T18:14:25.515418Z",
     "iopub.status.idle": "2022-09-06T18:14:25.599434Z",
     "shell.execute_reply": "2022-09-06T18:14:25.598156Z",
     "shell.execute_reply.started": "2022-09-06T18:14:25.515760Z"
    }
   },
   "outputs": [],
   "source": [
    "net = Net()\n",
    "net.load_state_dict(torch.load(f\"models_13/model38.pth\"))\n",
    "if torch.cuda.is_available():\n",
    "    net = net.cuda()"
   ]
  },
  {
   "cell_type": "code",
   "execution_count": 245,
   "id": "0b9a29f6-6aa4-42ee-845a-b3625582f133",
   "metadata": {
    "execution": {
     "iopub.execute_input": "2022-09-06T18:14:25.601850Z",
     "iopub.status.busy": "2022-09-06T18:14:25.601402Z",
     "iopub.status.idle": "2022-09-06T18:14:25.653701Z",
     "shell.execute_reply": "2022-09-06T18:14:25.652285Z",
     "shell.execute_reply.started": "2022-09-06T18:14:25.601850Z"
    }
   },
   "outputs": [],
   "source": [
    "net_altered = Net()\n",
    "net_altered.load_state_dict(torch.load(f\"models_13/model38.pth\"))\n",
    "if torch.cuda.is_available():\n",
    "    net_altered = net_altered.cuda()\n",
    "\n",
    "## Set the weights of a filter to 0 here:\n",
    "with torch.no_grad():\n",
    "    net_altered.conv1.weight[0].copy_(torch.zeros_like(net_altered.conv1.weight[0]))\n",
    "    net_altered.conv1.weight[4].copy_(torch.zeros_like(net_altered.conv1.weight[4]))\n",
    "    net_altered.conv2.weight[13].copy_(torch.zeros_like(net_altered.conv2.weight[13]))\n",
    "    net_altered.conv2.weight[28].copy_(torch.zeros_like(net_altered.conv2.weight[28]))\n",
    "    net_altered.conv3.weight[3].copy_(torch.zeros_like(net_altered.conv3.weight[3]))\n",
    "    net_altered.conv3.weight[19].copy_(torch.zeros_like(net_altered.conv3.weight[19]))\n",
    "    net_altered.conv4.weight[14].copy_(torch.zeros_like(net_altered.conv4.weight[14]))    \n",
    "    net_altered.conv4.weight[21].copy_(torch.zeros_like(net_altered.conv4.weight[21]))"
   ]
  },
  {
   "cell_type": "code",
   "execution_count": 246,
   "id": "8ffb46c0-9bcb-407a-8dc1-e4782485228a",
   "metadata": {
    "execution": {
     "iopub.execute_input": "2022-09-06T18:14:25.655467Z",
     "iopub.status.busy": "2022-09-06T18:14:25.655132Z",
     "iopub.status.idle": "2022-09-06T18:14:25.676720Z",
     "shell.execute_reply": "2022-09-06T18:14:25.675548Z",
     "shell.execute_reply.started": "2022-09-06T18:14:25.655432Z"
    }
   },
   "outputs": [],
   "source": [
    "transform = transforms.Compose([transforms.ToTensor(),\n",
    "                                transforms.Normalize(mean=[0.5,0.5,0.5], std=[0.5, 0.5, 0.5])])\n",
    "\n",
    "test_data_dir = '4/test'\n",
    "\n",
    "testset = torchvision.datasets.ImageFolder(root= test_data_dir, transform=transform)\n",
    "testloader = torch.utils.data.DataLoader(testset, batch_size=16,\n",
    "                                         shuffle=False, num_workers=2)"
   ]
  },
  {
   "cell_type": "code",
   "execution_count": 247,
   "id": "3499e2df-ac9c-4e3f-bb4b-7e0fd45f02cf",
   "metadata": {
    "execution": {
     "iopub.execute_input": "2022-09-06T18:14:25.678819Z",
     "iopub.status.busy": "2022-09-06T18:14:25.678391Z",
     "iopub.status.idle": "2022-09-06T18:14:25.699645Z",
     "shell.execute_reply": "2022-09-06T18:14:25.698623Z",
     "shell.execute_reply.started": "2022-09-06T18:14:25.678782Z"
    }
   },
   "outputs": [],
   "source": [
    "class ImageFolderWithPaths(torchvision.datasets.ImageFolder):\n",
    "    \"\"\"Custom dataset that includes image file paths. Extends\n",
    "    torchvision.datasets.ImageFolder\n",
    "    \"\"\"\n",
    "\n",
    "    # override the __getitem__ method. this is the method that dataloader calls\n",
    "    def __getitem__(self, index):\n",
    "        # this is what ImageFolder normally returns \n",
    "        original_tuple = super(ImageFolderWithPaths, self).__getitem__(index)\n",
    "        # the image file path\n",
    "        path = self.imgs[index][0]\n",
    "        # make a new tuple that includes original and the path\n",
    "        tuple_with_path = (original_tuple + (path,))\n",
    "        return tuple_with_path\n",
    "\n",
    "testset_new = ImageFolderWithPaths(root= test_data_dir, transform=transform)\n",
    "testloader_new = torch.utils.data.DataLoader(testset_new, batch_size=16,\n",
    "                                         shuffle=False, num_workers=2)"
   ]
  },
  {
   "cell_type": "code",
   "execution_count": 248,
   "id": "607b3a18-f87b-4646-bd1f-7653b73b8e14",
   "metadata": {
    "execution": {
     "iopub.execute_input": "2022-09-06T18:14:25.702856Z",
     "iopub.status.busy": "2022-09-06T18:14:25.701845Z",
     "iopub.status.idle": "2022-09-06T18:14:25.716623Z",
     "shell.execute_reply": "2022-09-06T18:14:25.715219Z",
     "shell.execute_reply.started": "2022-09-06T18:14:25.702826Z"
    }
   },
   "outputs": [],
   "source": [
    "########################################################################\n",
    "# Let us look at how the network performs on the test dataset.\n",
    "\n",
    "def test(testloader, model):\n",
    "    correct = 0\n",
    "    total = 0\n",
    "    with torch.no_grad():\n",
    "        for data in (testloader):\n",
    "            images, labels = data\n",
    "            if torch.cuda.is_available():\n",
    "                images, labels = images.cuda(), labels.cuda()        \n",
    "            outputs = model(images)\n",
    "            _, predicted = torch.max(outputs.data, 1)\n",
    "            total += labels.size(0)\n",
    "            correct += (predicted == labels).sum().item()\n",
    "\n",
    "    return 100*correct/total\n",
    "\n",
    "#########################################################################\n",
    "# get details of classes and class to index mapping in a directory\n",
    "def find_classes(dir):\n",
    "    classes = [d for d in os.listdir(dir) if os.path.isdir(os.path.join(dir, d))]\n",
    "    classes.sort()\n",
    "    class_to_idx = {classes[i]: i for i in range(len(classes))}\n",
    "    return classes, class_to_idx\n",
    "\n",
    "\n",
    "def classwise_test(testloader, model):\n",
    "########################################################################\n",
    "# class-wise accuracy\n",
    "\n",
    "    classes, _ = find_classes(test_data_dir)\n",
    "    n_class = len(classes) # number of classes\n",
    "\n",
    "    class_correct = list(0. for i in range(n_class))\n",
    "    class_total = list(0. for i in range(n_class))\n",
    "    with torch.no_grad():\n",
    "        for data in tqdm(testloader):\n",
    "            images, labels = data\n",
    "            if torch.cuda.is_available():\n",
    "                images, labels = images.cuda(), labels.cuda()        \n",
    "            outputs = model(images)\n",
    "            _, predicted = torch.max(outputs, 1)\n",
    "            c = (predicted == labels).squeeze()\n",
    "            for i in range(4):\n",
    "                label = labels[i]\n",
    "                class_correct[label] += c[i].item()\n",
    "                class_total[label] += 1\n",
    "    res = {}\n",
    "    for i in range(n_class):\n",
    "        res[classes[i]] = 100 * class_correct[i] / class_total[i]\n",
    "    return res"
   ]
  },
  {
   "cell_type": "code",
   "execution_count": 249,
   "id": "6bab861e-bb9b-407d-b84c-6e962cb34464",
   "metadata": {
    "execution": {
     "iopub.execute_input": "2022-09-06T18:14:25.718605Z",
     "iopub.status.busy": "2022-09-06T18:14:25.718217Z",
     "iopub.status.idle": "2022-09-06T18:14:29.999091Z",
     "shell.execute_reply": "2022-09-06T18:14:29.998035Z",
     "shell.execute_reply.started": "2022-09-06T18:14:25.718578Z"
    }
   },
   "outputs": [
    {
     "name": "stdout",
     "output_type": "stream",
     "text": [
      "Accuracy on original model: 45.666666666666664%\n",
      "Accuracy on changed model: 42.333333333333336%\n"
     ]
    }
   ],
   "source": [
    "orig_acc = test(testloader,net)\n",
    "altered_acc = test(testloader,net_altered)\n",
    "print(f\"Accuracy on original model: {orig_acc}%\")\n",
    "print(f\"Accuracy on changed model: {altered_acc}%\")"
   ]
  },
  {
   "cell_type": "code",
   "execution_count": 250,
   "id": "f41d8551-a5b0-41f0-9261-c66f1728fca8",
   "metadata": {
    "execution": {
     "iopub.execute_input": "2022-09-06T18:14:30.001228Z",
     "iopub.status.busy": "2022-09-06T18:14:30.000895Z",
     "iopub.status.idle": "2022-09-06T18:14:34.468351Z",
     "shell.execute_reply": "2022-09-06T18:14:34.467147Z",
     "shell.execute_reply.started": "2022-09-06T18:14:30.001198Z"
    }
   },
   "outputs": [
    {
     "name": "stderr",
     "output_type": "stream",
     "text": [
      "100%|██████████| 207/207 [00:02<00:00, 92.24it/s]\n",
      "100%|██████████| 207/207 [00:02<00:00, 93.91it/s] \n"
     ]
    }
   ],
   "source": [
    "orig_classwise_acc = classwise_test(testloader, net)\n",
    "altered_classwise_acc = classwise_test(testloader, net_altered)"
   ]
  },
  {
   "cell_type": "code",
   "execution_count": 251,
   "id": "960ab946-0ca0-4fca-9d47-9055cfac32d8",
   "metadata": {
    "execution": {
     "iopub.execute_input": "2022-09-06T18:14:34.472112Z",
     "iopub.status.busy": "2022-09-06T18:14:34.471615Z",
     "iopub.status.idle": "2022-09-06T18:14:34.483710Z",
     "shell.execute_reply": "2022-09-06T18:14:34.482178Z",
     "shell.execute_reply.started": "2022-09-06T18:14:34.472112Z"
    }
   },
   "outputs": [
    {
     "name": "stdout",
     "output_type": "stream",
     "text": [
      "Class: Ibizan_hound\n",
      "Old accuracy: 17.857142857142858\n",
      "New accuracy: 14.285714285714286\n",
      "\n",
      "Class: beer_bottle\n",
      "Old accuracy: 54.166666666666664\n",
      "New accuracy: 45.833333333333336\n",
      "\n",
      "Class: bolete\n",
      "Old accuracy: 41.666666666666664\n",
      "New accuracy: 37.5\n",
      "\n",
      "Class: boxer\n",
      "Old accuracy: 42.857142857142854\n",
      "New accuracy: 17.857142857142858\n",
      "\n",
      "Class: electric_guitar\n",
      "Old accuracy: 12.5\n",
      "New accuracy: 4.166666666666667\n",
      "\n",
      "Class: file\n",
      "Old accuracy: 42.857142857142854\n",
      "New accuracy: 35.714285714285715\n",
      "\n",
      "Class: garbage_truck\n",
      "Old accuracy: 37.5\n",
      "New accuracy: 33.333333333333336\n",
      "\n",
      "Class: gordon_setter\n",
      "Old accuracy: 60.714285714285715\n",
      "New accuracy: 57.142857142857146\n",
      "\n",
      "Class: hair_slide\n",
      "Old accuracy: 41.666666666666664\n",
      "New accuracy: 20.833333333333332\n",
      "\n",
      "Class: house_finch\n",
      "Old accuracy: 50.0\n",
      "New accuracy: 33.333333333333336\n",
      "\n",
      "Class: komondor\n",
      "Old accuracy: 21.428571428571427\n",
      "New accuracy: 17.857142857142858\n",
      "\n",
      "Class: malamute\n",
      "Old accuracy: 62.5\n",
      "New accuracy: 54.166666666666664\n",
      "\n",
      "Class: pencil_box\n",
      "Old accuracy: 37.5\n",
      "New accuracy: 33.333333333333336\n",
      "\n",
      "Class: prayer_rug\n",
      "Old accuracy: 50.0\n",
      "New accuracy: 46.42857142857143\n",
      "\n",
      "Class: reel\n",
      "Old accuracy: 37.5\n",
      "New accuracy: 29.166666666666668\n",
      "\n",
      "Class: stage\n",
      "Old accuracy: 45.833333333333336\n",
      "New accuracy: 25.0\n",
      "\n",
      "Class: tile_roof\n",
      "Old accuracy: 28.571428571428573\n",
      "New accuracy: 14.285714285714286\n",
      "\n",
      "Class: tobacco_shop\n",
      "Old accuracy: 37.5\n",
      "New accuracy: 33.333333333333336\n",
      "\n",
      "Class: trifle\n",
      "Old accuracy: 54.166666666666664\n",
      "New accuracy: 33.333333333333336\n",
      "\n"
     ]
    }
   ],
   "source": [
    "def get_change_in_acc():\n",
    "    classes, _ = find_classes(test_data_dir)\n",
    "    class_list = []\n",
    "    for c in classes:\n",
    "        orig = orig_classwise_acc[c]\n",
    "        altered = altered_classwise_acc[c]\n",
    "        if altered < orig:\n",
    "            print(f\"Class: {c}\")\n",
    "            print(f\"Old accuracy: {orig}\")\n",
    "            print(f\"New accuracy: {altered}\")\n",
    "            print()\n",
    "            class_list.append(c)\n",
    "    return \", \".join(class_list)\n",
    "\n",
    "classes_changed = get_change_in_acc()"
   ]
  },
  {
   "cell_type": "code",
   "execution_count": 252,
   "id": "b85f8849-c2a5-4576-98b6-abbd88d12d8b",
   "metadata": {
    "execution": {
     "iopub.execute_input": "2022-09-06T18:14:34.485184Z",
     "iopub.status.busy": "2022-09-06T18:14:34.484876Z",
     "iopub.status.idle": "2022-09-06T18:14:34.493179Z",
     "shell.execute_reply": "2022-09-06T18:14:34.491780Z",
     "shell.execute_reply.started": "2022-09-06T18:14:34.485156Z"
    }
   },
   "outputs": [
    {
     "data": {
      "text/plain": [
       "'Ibizan_hound, beer_bottle, bolete, boxer, electric_guitar, file, garbage_truck, gordon_setter, hair_slide, house_finch, komondor, malamute, pencil_box, prayer_rug, reel, stage, tile_roof, tobacco_shop, trifle'"
      ]
     },
     "execution_count": 252,
     "metadata": {},
     "output_type": "execute_result"
    }
   ],
   "source": [
    "classes_changed"
   ]
  },
  {
   "cell_type": "code",
   "execution_count": 253,
   "id": "5ce35be7-5626-4ee5-bfa9-7d09e32e883e",
   "metadata": {
    "execution": {
     "iopub.execute_input": "2022-09-06T18:14:34.494460Z",
     "iopub.status.busy": "2022-09-06T18:14:34.494197Z",
     "iopub.status.idle": "2022-09-06T18:14:34.515352Z",
     "shell.execute_reply": "2022-09-06T18:14:34.514110Z",
     "shell.execute_reply.started": "2022-09-06T18:14:34.494435Z"
    }
   },
   "outputs": [],
   "source": [
    "files = glob.glob(\"4/test/*/*\")"
   ]
  },
  {
   "cell_type": "code",
   "execution_count": 254,
   "id": "022fb6a1-60e8-41ca-aa60-cd91dd73fcc2",
   "metadata": {
    "execution": {
     "iopub.execute_input": "2022-09-06T18:14:34.517243Z",
     "iopub.status.busy": "2022-09-06T18:14:34.516906Z",
     "iopub.status.idle": "2022-09-06T18:14:34.524433Z",
     "shell.execute_reply": "2022-09-06T18:14:34.523058Z",
     "shell.execute_reply.started": "2022-09-06T18:14:34.517215Z"
    }
   },
   "outputs": [],
   "source": [
    "def read_img(img_path):\n",
    "    with open(img_path, 'rb') as f:\n",
    "        image_bytes = f.read()\n",
    "        image = Image.open(io.BytesIO(image_bytes))\n",
    "    return np.asarray(image)"
   ]
  },
  {
   "cell_type": "code",
   "execution_count": 255,
   "id": "aaa0438b-6b72-4b44-9a93-c9ea999b6599",
   "metadata": {
    "execution": {
     "iopub.execute_input": "2022-09-06T18:14:34.526414Z",
     "iopub.status.busy": "2022-09-06T18:14:34.526082Z",
     "iopub.status.idle": "2022-09-06T18:14:34.533239Z",
     "shell.execute_reply": "2022-09-06T18:14:34.531953Z",
     "shell.execute_reply.started": "2022-09-06T18:14:34.526385Z"
    }
   },
   "outputs": [],
   "source": [
    "def transform_image(image):\n",
    "    transform = transforms.Compose([transforms.ToTensor(),\n",
    "                                transforms.Normalize(mean=[0.5,0.5,0.5], std=[0.5, 0.5, 0.5])])\n",
    "    img_copy = image.copy()\n",
    "    return transform(img_copy).unsqueeze(0)"
   ]
  },
  {
   "cell_type": "code",
   "execution_count": 256,
   "id": "b0000225-160a-466f-a453-1a5f8c0ca783",
   "metadata": {
    "execution": {
     "iopub.execute_input": "2022-09-06T18:14:34.535593Z",
     "iopub.status.busy": "2022-09-06T18:14:34.535152Z",
     "iopub.status.idle": "2022-09-06T18:14:34.542544Z",
     "shell.execute_reply": "2022-09-06T18:14:34.541369Z",
     "shell.execute_reply.started": "2022-09-06T18:14:34.535544Z"
    }
   },
   "outputs": [],
   "source": [
    "def get_prediction(model, image):\n",
    "    tensor = transform_image(image)\n",
    "    tensor = tensor.cuda()\n",
    "    output = model.forward(tensor)\n",
    "    _, predicted = torch.max(output.data, 1)\n",
    "    return predicted"
   ]
  },
  {
   "cell_type": "code",
   "execution_count": 257,
   "id": "a6ef9e1a-c144-4785-9ddd-549bb3aa9c9a",
   "metadata": {
    "execution": {
     "iopub.execute_input": "2022-09-06T18:14:34.544772Z",
     "iopub.status.busy": "2022-09-06T18:14:34.544448Z",
     "iopub.status.idle": "2022-09-06T18:14:34.558263Z",
     "shell.execute_reply": "2022-09-06T18:14:34.556379Z",
     "shell.execute_reply.started": "2022-09-06T18:14:34.544745Z"
    }
   },
   "outputs": [],
   "source": [
    "def find_classes(dir):\n",
    "    classes = [d for d in os.listdir(dir) if os.path.isdir(os.path.join(dir, d))]\n",
    "    classes.sort()\n",
    "    class_to_idx = {classes[i]: i for i in range(len(classes))}\n",
    "    return classes, class_to_idx\n",
    "\n",
    "classes, class_to_idx = find_classes(test_data_dir)\n",
    "\n",
    "def get_differences(testloader, model, model_altered):\n",
    "    res = []\n",
    "    with torch.no_grad():\n",
    "        for data in (testloader):\n",
    "            images, labels, paths = data\n",
    "            if torch.cuda.is_available():\n",
    "                images, labels = images.cuda(), labels.cuda()        \n",
    "            outputs = model(images)\n",
    "            _, predicted = torch.max(outputs.data, 1)\n",
    "            outputs = model_altered(images)\n",
    "            _, predicted_altered = torch.max(outputs.data, 1)\n",
    "            for i in range(len(labels)):\n",
    "                label = labels[i]\n",
    "                orig_pred = predicted[i]\n",
    "                new_pred = predicted_altered[i]\n",
    "                if not classes[orig_pred.cpu().item()] in classes_changed:\n",
    "                    continue\n",
    "                if label==orig_pred and new_pred != orig_pred:\n",
    "                    res.append({\n",
    "                        \"fpath\": paths[i],\n",
    "                        \"old_pred\": classes[orig_pred.cpu().item()],\n",
    "                        \"new_pred\": classes[new_pred.cpu().item()],\n",
    "                    })\n",
    "    return res"
   ]
  },
  {
   "cell_type": "code",
   "execution_count": 258,
   "id": "21ae0116-427d-470c-b3ae-6e3ac65ebb8d",
   "metadata": {
    "execution": {
     "iopub.execute_input": "2022-09-06T18:14:34.563123Z",
     "iopub.status.busy": "2022-09-06T18:14:34.562647Z",
     "iopub.status.idle": "2022-09-06T18:14:38.143459Z",
     "shell.execute_reply": "2022-09-06T18:14:38.141483Z",
     "shell.execute_reply.started": "2022-09-06T18:14:34.563083Z"
    }
   },
   "outputs": [],
   "source": [
    "res = get_differences(testloader_new, net, net_altered)"
   ]
  },
  {
   "cell_type": "code",
   "execution_count": 259,
   "id": "f14727e2-5d0c-434d-a4ba-eed7eaffee9d",
   "metadata": {
    "execution": {
     "iopub.execute_input": "2022-09-06T18:14:38.145359Z",
     "iopub.status.busy": "2022-09-06T18:14:38.145018Z",
     "iopub.status.idle": "2022-09-06T18:14:38.151134Z",
     "shell.execute_reply": "2022-09-06T18:14:38.150163Z",
     "shell.execute_reply.started": "2022-09-06T18:14:38.145315Z"
    }
   },
   "outputs": [],
   "source": [
    "import random\n",
    "random.shuffle(res)"
   ]
  },
  {
   "cell_type": "code",
   "execution_count": null,
   "id": "ba8a5607-2b42-4c66-8db8-b83aec045e5b",
   "metadata": {
    "execution": {
     "iopub.execute_input": "2022-09-06T18:14:38.153060Z",
     "iopub.status.busy": "2022-09-06T18:14:38.152583Z"
    }
   },
   "outputs": [],
   "source": [
    "if len(res)>=4:\n",
    "    f, axarr = plt.subplots(2,2, figsize=(10,10))\n",
    "    for i in range(2):\n",
    "        for j in range(2):\n",
    "            axarr[i,j].imshow(read_img(res[j*2 + i][\"fpath\"]))\n",
    "            axarr[i,j].set_xlabel(f\"{res[j*2 + i]['old_pred']} -> {res[j*2 + i]['new_pred']}\")\n",
    "    plt.show()\n",
    "else:\n",
    "    f, axarr = plt.subplots(1,2, figsize=(10,10))\n",
    "    for i in range(2):\n",
    "        axarr[i].imshow(read_img(res[i][\"fpath\"]))\n",
    "        axarr[i].set_xlabel(f\"{res[i]['old_pred']} -> {res[i]['new_pred']}\")\n",
    "    plt.show()"
   ]
  },
  {
   "cell_type": "code",
   "execution_count": null,
   "id": "cc9a975b-8a76-4507-9b20-e16386882e7b",
   "metadata": {},
   "outputs": [],
   "source": []
  }
 ],
 "metadata": {
  "kernelspec": {
   "display_name": "Python 3 (ipykernel)",
   "language": "python",
   "name": "python3"
  },
  "language_info": {
   "codemirror_mode": {
    "name": "ipython",
    "version": 3
   },
   "file_extension": ".py",
   "mimetype": "text/x-python",
   "name": "python",
   "nbconvert_exporter": "python",
   "pygments_lexer": "ipython3",
   "version": "3.9.13"
  }
 },
 "nbformat": 4,
 "nbformat_minor": 5
}
